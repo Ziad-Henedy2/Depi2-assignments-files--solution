{
 "cells": [
  {
   "cell_type": "markdown",
   "metadata": {},
   "source": [
    "## Python Task"
   ]
  },
  {
   "cell_type": "markdown",
   "metadata": {},
   "source": [
    "### 1. Question: Merge and Sort Two Lists\n",
    "\n",
    "**Description:** Given two lists of integers, merge them into one list and sort the result in ascending order. Do not use Python's built-in sort() function or other sorting functions.\n",
    "\n",
    "\n"
   ]
  },
  {
   "cell_type": "code",
   "execution_count": null,
   "metadata": {},
   "outputs": [],
   "source": [
    "'''\n",
    "# Example Input:\n",
    "list1 = [3, 1, 4]\n",
    "list2 = [2, 5, 0]\n",
    "\n",
    "# Example Output:\n",
    "[0, 1, 2, 3, 4, 5]'''"
   ]
  },
  {
   "cell_type": "code",
   "execution_count": 35,
   "metadata": {},
   "outputs": [
    {
     "name": "stdout",
     "output_type": "stream",
     "text": [
      "the list before sorting [3, 1, 4, 2, 5, 0, 9, 8, 7] \n",
      "the list after sorting[0, 1, 2, 3, 4, 5, 7, 8, 9]\n"
     ]
    }
   ],
   "source": [
    "list1 = [3, 1, 4]\n",
    "list2 = [2, 5, 0,9,8,7]\n",
    "\n",
    "\n",
    "\n",
    "merged_list = list1 + list2\n",
    "\n",
    "print(f\"the list before sorting {merged_list} \")\n",
    "\n",
    "n = len(merged_list)\n",
    "for i in range(n):\n",
    "    for j in range(0, n - i - 1):\n",
    "        if merged_list[j] > merged_list[j + 1]:\n",
    "            merged_list[j], merged_list[j + 1] = merged_list[j + 1], merged_list[j]\n",
    "\n",
    "\n",
    "print(f'the list after sorting{merged_list}')"
   ]
  },
  {
   "cell_type": "markdown",
   "metadata": {},
   "source": [
    "### 2. Question: Repeat Characters in a String\n",
    "\n",
    "**Description:** Given a string, create a new string by repeating each character in the original string n times. \n",
    "\n",
    "Assume n is given and always a positive integer. \n",
    "\n",
    "Do not use if statements in your solution.\n"
   ]
  },
  {
   "cell_type": "code",
   "execution_count": null,
   "metadata": {},
   "outputs": [],
   "source": [
    "'''\n",
    "# Example Input:\n",
    "s = \"abc\"\n",
    "n = 3\n",
    "\n",
    "# Example Output:\n",
    "\"aaabbbccc\"\n",
    "\n",
    "'''"
   ]
  },
  {
   "cell_type": "code",
   "execution_count": 58,
   "metadata": {},
   "outputs": [
    {
     "name": "stdout",
     "output_type": "stream",
     "text": [
      "aaabbbccc\n"
     ]
    }
   ],
   "source": [
    "s = \"abc\"\n",
    "n = 3\n",
    "\n",
    "new = \"\"\n",
    "for i in s :\n",
    "    repeat = i * n\n",
    "    new = new+repeat\n",
    "\n",
    "print(new)"
   ]
  }
 ],
 "metadata": {
  "kernelspec": {
   "display_name": "Python 3 (ipykernel)",
   "language": "python",
   "name": "python3"
  },
  "language_info": {
   "codemirror_mode": {
    "name": "ipython",
    "version": 3
   },
   "file_extension": ".py",
   "mimetype": "text/x-python",
   "name": "python",
   "nbconvert_exporter": "python",
   "pygments_lexer": "ipython3",
   "version": "3.12.4"
  }
 },
 "nbformat": 4,
 "nbformat_minor": 4
}
